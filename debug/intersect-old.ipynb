{
 "cells": [
  {
   "cell_type": "code",
   "execution_count": 1,
   "id": "01e72772-0bc1-4389-ad4a-1ad575964b51",
   "metadata": {},
   "outputs": [],
   "source": [
    "#        m1                             m2\n",
    "#Ex: 12......n                       12....n       \n",
    "# -------------------5-----------------------------6\n",
    "#    1111100000 |  C    = rows      11111100.. | C\n",
    "#    1111010000 |   arr             1111101..  |  arr\n",
    "#    ...        |                   ...        |\n",
    "#         11111 V                      111111  V\n",
    "#\n",
    "# intersect   = m1 X m2.T\n",
    "#    c6 ---->  (axis=1)\n",
    "# c5 \n",
    "# |   5 5 ....\n",
    "# |   ... \n",
    "# v   ..  0 0\n",
    "#\n",
    "# (axis=0)\n",
    "\n",
    "# Function which returns subset or r length from n\n",
    "from itertools import combinations\n",
    "import numpy as np\n",
    "import math\n",
    "import sys\n",
    "import os\n",
    "import gc\n",
    "import time\n",
    "\n",
    "class Reducere2():\n",
    "    def __init__(self, arr):\n",
    "        pass\n",
    "        self.n = len(arr)\n",
    "        self.m5, self.c5 = self.matrix5(arr)\n",
    "        print(\"m5-\",self.m5.shape)\n",
    "        dim = self.m5.shape[0]\n",
    "        #init intersect file on disk\n",
    "        fp_intersect = np.memmap('data_c5.bin', dtype=np.int8, mode='w+', shape=(dim,dim))\n",
    "    \n",
    "    def comb(self, arr, k):\n",
    "        # return list of all subsets of length k\n",
    "        # to deal with duplicate subsets use \n",
    "        # set(list(combinations(arr, k)))\n",
    "        return list(combinations(arr, k))\n",
    "    \n",
    "    #\"graphical\" matrix (0/1 int8)\n",
    "    def matrix5(self,arr):\n",
    "        comb = self.comb(arr,5)\n",
    "        cols = self.n\n",
    "        rows = math.comb(cols,5)\n",
    "\n",
    "        z = np.zeros((rows,cols), dtype = np.int8)\n",
    "        i = 0\n",
    "        for c in comb:\n",
    "            \n",
    "            n1 = c[0]\n",
    "            n2 = c[1]\n",
    "            n3 = c[2]\n",
    "            n4 = c[3]\n",
    "            n5 = c[4]\n",
    "\n",
    "            z[i,n1-1] = 1\n",
    "            z[i,n2-1] = 1\n",
    "            z[i,n3-1] = 1\n",
    "            z[i,n4-1] = 1\n",
    "            z[i,n5-1] = 1\n",
    "                \n",
    "            #print(i,z[i])\n",
    "            i += 1\n",
    "\n",
    "        return z, comb   \n",
    "    \n",
    "        \n",
    "    def calc_intersect(self):\n",
    "        dim = self.m5.shape[0]        \n",
    "        self.fp_intersect = np.memmap('data_c5.bin', dtype=np.int8, mode='r+', shape=(dim,dim))        \n",
    "        #data = np.zeros((dim,dim), dtype = np.int8)\n",
    "        #fp_intersect[:]=data[:]\n",
    "        #row1\n",
    "        #fp_intersect[1,:] = np.ones((1,dim), dtype = np.int8)\n",
    "        #row2\n",
    "        #fp_intersect[2,:] = np.ones((1,dim), dtype = np.int8)\n",
    "\n",
    "        \n",
    "        \n",
    "        print(\"start generating intersections file...\")\n",
    "        #scan1\n",
    "        #start = time.time()\n",
    "        for i in range(dim):\n",
    "            print(dim,\"<--\",i)\n",
    "            row1 = self.m5[i,:]    \n",
    "            for j in range(dim):\n",
    "                #print(i,j)\n",
    "                row2 = self.m5[j,:]    \n",
    "                result = row1@row2\n",
    "                self.fp_intersect[i,j] = result\n",
    "            #write modif\n",
    "            self.fp_intersect.flush()\n",
    "        #end = time.time()\n",
    "        #print(end - start)            \n",
    "\n",
    "        #scan2\n",
    "        #it = np.nditer(self.m5, flags=['f_index'],order='C')\n",
    "        #newline = 0\n",
    "        #acc = []\n",
    "        #start = time.time()\n",
    "        #for x in it:\n",
    "        #    newline += 1\n",
    "        #    #print(f\"{it.index}--{x}\")\n",
    "        #    acc.append(int(x))\n",
    "        #    if(newline == self.n):\n",
    "        #        #print(acc)\n",
    "        #        newline = 0\n",
    "        #        acc = []\n",
    "        #end = time.time()\n",
    "        #print(end - start)                 \n",
    "            \n",
    "        #write modif\n",
    "        #self.fp_intersect.flush()\n",
    "\n",
    "\n",
    "    def load(self):\n",
    "        dim = self.m5.shape[0]\n",
    "        newfp = np.memmap('data_c5.bin', dtype=np.int8, mode='r', shape=(dim,dim))\n",
    "        print(newfp)\n",
    "        \n",
    "\n",
    "    def go(self):\n",
    "        #memory garbage collector\n",
    "        gc.enable()\n",
    "        gc.collect()\n",
    "        self.calc_intersect()\n",
    "        #verif\n",
    "        self.load()\n",
    "    \n",
    "#arr = [1, 2, 3, 4, 5, 6, 7, 8, 9, 10]\n",
    "#or\n",
    "#m=20\n",
    "#arr = np.arange(start=1, stop=m+1, step=1)\n",
    "#calc = Reducere2(arr)   \n",
    "#calc.go()\n"
   ]
  },
  {
   "cell_type": "code",
   "execution_count": 16,
   "id": "38f59569-a017-4487-91c8-7c22d70f7008",
   "metadata": {},
   "outputs": [
    {
     "data": {
      "text/plain": [
       "15504"
      ]
     },
     "execution_count": 16,
     "metadata": {},
     "output_type": "execute_result"
    }
   ],
   "source": [
    "dim = math.comb(20,5)\n",
    "dim"
   ]
  },
  {
   "cell_type": "code",
   "execution_count": 30,
   "id": "c65bf40d-030a-4ebd-b9cf-5786607ab66b",
   "metadata": {},
   "outputs": [
    {
     "name": "stdout",
     "output_type": "stream",
     "text": [
      "[[5 4 4 ... 0 0 0]\n",
      " [4 5 4 ... 0 0 0]\n",
      " [4 4 5 ... 0 0 0]\n",
      " ...\n",
      " [0 0 0 ... 0 0 0]\n",
      " [0 0 0 ... 0 0 0]\n",
      " [0 0 0 ... 0 0 0]]\n"
     ]
    }
   ],
   "source": [
    "newfp = np.memmap('data_c5.bin', dtype=np.int8, mode='r', shape=(dim,dim))\n",
    "print(newfp)"
   ]
  },
  {
   "cell_type": "code",
   "execution_count": 29,
   "id": "392334c6-9438-4bfd-a1ff-73d4d4fac3d2",
   "metadata": {},
   "outputs": [
    {
     "data": {
      "text/plain": [
       "memmap([4, 3, 3, ..., 0, 0, 0], dtype=int8)"
      ]
     },
     "execution_count": 29,
     "metadata": {},
     "output_type": "execute_result"
    }
   ],
   "source": [
    "newfp[19,:]"
   ]
  },
  {
   "cell_type": "code",
   "execution_count": 12,
   "id": "f427bd28-0104-4050-a47b-ec676676d322",
   "metadata": {},
   "outputs": [
    {
     "data": {
      "text/plain": [
       "(658008, 658008)"
      ]
     },
     "execution_count": 12,
     "metadata": {},
     "output_type": "execute_result"
    }
   ],
   "source": [
    "newfp.shape"
   ]
  },
  {
   "cell_type": "code",
   "execution_count": 14,
   "id": "98089bc0-b946-4005-bbe7-dc45829319fc",
   "metadata": {},
   "outputs": [
    {
     "data": {
      "text/plain": [
       "3225.91161775589"
      ]
     },
     "execution_count": 14,
     "metadata": {},
     "output_type": "execute_result"
    }
   ],
   "source": [
    "658008 * 658008 * 8 / 1073741824"
   ]
  },
  {
   "cell_type": "code",
   "execution_count": null,
   "id": "bde65899-4f33-4314-a00a-3d33e09a9947",
   "metadata": {},
   "outputs": [],
   "source": []
  }
 ],
 "metadata": {
  "kernelspec": {
   "display_name": "Python 3",
   "language": "python",
   "name": "python3"
  },
  "language_info": {
   "codemirror_mode": {
    "name": "ipython",
    "version": 3
   },
   "file_extension": ".py",
   "mimetype": "text/x-python",
   "name": "python",
   "nbconvert_exporter": "python",
   "pygments_lexer": "ipython3",
   "version": "3.8.10"
  }
 },
 "nbformat": 4,
 "nbformat_minor": 5
}
