{
 "cells": [
  {
   "cell_type": "code",
   "execution_count": 6,
   "id": "e7a4cc84-b4f1-4d9a-94c4-46a8c7d944fe",
   "metadata": {},
   "outputs": [],
   "source": [
    "import math"
   ]
  },
  {
   "cell_type": "code",
   "execution_count": 7,
   "id": "0d30161d-4c40-471d-97a0-cde7d69cbd2b",
   "metadata": {},
   "outputs": [],
   "source": [
    "import numpy as np\n",
    "from scipy.sparse import bsr_matrix, csr_matrix, lil_matrix, save_npz, load_npz"
   ]
  },
  {
   "cell_type": "code",
   "execution_count": 206,
   "id": "44553fc1-1223-4032-9e88-81ba7471be0c",
   "metadata": {},
   "outputs": [],
   "source": [
    "dim  = math.comb(40,5)\n",
    "a = lil_matrix((dim,dim), dtype=np.int8)"
   ]
  },
  {
   "cell_type": "code",
   "execution_count": 16,
   "id": "bf678537-2fba-4195-a5f2-cbd01dcc9626",
   "metadata": {},
   "outputs": [
    {
     "data": {
      "text/plain": [
       "matrix([[0, 0, 0, ..., 0, 0, 0]])"
      ]
     },
     "execution_count": 16,
     "metadata": {},
     "output_type": "execute_result"
    }
   ],
   "source": [
    "a.sum(axis=0)"
   ]
  },
  {
   "cell_type": "code",
   "execution_count": 17,
   "id": "6a9fdd4a-4a57-43f3-ac63-f53577f753df",
   "metadata": {},
   "outputs": [],
   "source": [
    "#np.unique(a)"
   ]
  },
  {
   "cell_type": "code",
   "execution_count": 18,
   "id": "b1a45aa4-5f22-4bc0-b4be-2fc95e967dc7",
   "metadata": {},
   "outputs": [],
   "source": [
    "#a.todense()"
   ]
  },
  {
   "cell_type": "code",
   "execution_count": 207,
   "id": "e2f570b5-7cf6-4b97-b63d-987feb8d927d",
   "metadata": {},
   "outputs": [
    {
     "ename": "MemoryError",
     "evalue": "Unable to allocate 403. GiB for an array with shape (658008, 658008) and data type int8",
     "output_type": "error",
     "traceback": [
      "\u001b[0;31m---------------------------------------------------------------------------\u001b[0m",
      "\u001b[0;31mMemoryError\u001b[0m                               Traceback (most recent call last)",
      "\u001b[0;32m<ipython-input-207-64ccc545ee3a>\u001b[0m in \u001b[0;36m<module>\u001b[0;34m\u001b[0m\n\u001b[0;32m----> 1\u001b[0;31m \u001b[0mdense_a\u001b[0m \u001b[0;34m=\u001b[0m \u001b[0mnp\u001b[0m\u001b[0;34m.\u001b[0m\u001b[0mzeros\u001b[0m\u001b[0;34m(\u001b[0m\u001b[0;34m[\u001b[0m\u001b[0mdim\u001b[0m\u001b[0;34m,\u001b[0m\u001b[0mdim\u001b[0m\u001b[0;34m]\u001b[0m\u001b[0;34m,\u001b[0m\u001b[0mdtype\u001b[0m\u001b[0;34m=\u001b[0m\u001b[0mnp\u001b[0m\u001b[0;34m.\u001b[0m\u001b[0mint8\u001b[0m\u001b[0;34m)\u001b[0m\u001b[0;34m\u001b[0m\u001b[0;34m\u001b[0m\u001b[0m\n\u001b[0m",
      "\u001b[0;31mMemoryError\u001b[0m: Unable to allocate 403. GiB for an array with shape (658008, 658008) and data type int8"
     ]
    }
   ],
   "source": [
    "#dense_a = np.zeros([dim,dim],dtype=np.int8)"
   ]
  },
  {
   "cell_type": "code",
   "execution_count": 48,
   "id": "dc674908-6e26-4e78-8687-409845ddbe56",
   "metadata": {},
   "outputs": [],
   "source": [
    "#8 bytes\n",
    "#data = np.zeros([dim],dtype=np.int64)"
   ]
  },
  {
   "cell_type": "code",
   "execution_count": 50,
   "id": "e01b76ef-d6f0-410a-9e1c-54164485655a",
   "metadata": {},
   "outputs": [
    {
     "data": {
      "text/plain": [
       "'0'"
      ]
     },
     "execution_count": 50,
     "metadata": {},
     "output_type": "execute_result"
    }
   ],
   "source": [
    "#np.binary_repr(data[0])"
   ]
  },
  {
   "cell_type": "code",
   "execution_count": 74,
   "id": "0c77d392-c8d4-4ed5-af83-458d9d46b198",
   "metadata": {},
   "outputs": [
    {
     "data": {
      "text/plain": [
       "9223372036854775808"
      ]
     },
     "execution_count": 74,
     "metadata": {},
     "output_type": "execute_result"
    }
   ],
   "source": [
    "int(\"1000000000000000000000000000000000000000000000000000000000000000\",2)"
   ]
  },
  {
   "cell_type": "code",
   "execution_count": 105,
   "id": "726c56d9-31db-4960-9833-8e44c7d3a7f6",
   "metadata": {},
   "outputs": [],
   "source": [
    "endianness_map = {\n",
    "    '>': 'big',\n",
    "    '<': 'little',\n",
    "    '=': sys.byteorder,\n",
    "    '|': 'not applicable',\n",
    "}"
   ]
  },
  {
   "cell_type": "code",
   "execution_count": 202,
   "id": "3746fff2-e4d4-4c49-b50b-e5132bb14290",
   "metadata": {},
   "outputs": [
    {
     "name": "stdout",
     "output_type": "stream",
     "text": [
      "m5- (252,)\n",
      "0 992 251\n",
      "end\n"
     ]
    }
   ],
   "source": [
    "#        m1                             m2\n",
    "#Ex: 12......n                       12....n       \n",
    "# -------------------5-----------------------------6\n",
    "#    1111100000 |  C    = rows      11111100.. | C\n",
    "#    1111010000 |   arr             1111101..  |  arr\n",
    "#    ...        |                   ...        |\n",
    "#         11111 V                      111111  V\n",
    "#\n",
    "# intersect   = m1 X m2.T\n",
    "#    c6 ---->  (axis=1)\n",
    "# c5 \n",
    "# |   5 5 ....\n",
    "# |   ... \n",
    "# v   ..  0 0\n",
    "#\n",
    "# (axis=0)\n",
    "\n",
    "# Function which returns subset or r length from n\n",
    "from itertools import combinations\n",
    "import numpy as np\n",
    "import math\n",
    "import sys\n",
    "import os\n",
    "import gc\n",
    "import time\n",
    "import sys\n",
    "\n",
    "class Reducere2():\n",
    "    def __init__(self, arr):\n",
    "        pass\n",
    "        self.n = len(arr)\n",
    "        self.m5, self.c5 = self.matrix5(arr)\n",
    "        self.matrix5(arr)\n",
    "        #self.m5_copy = self.m5\n",
    "        print(\"m5-\",self.m5.shape)\n",
    "        #dim = self.m5.shape[0]\n",
    "    \n",
    "    def comb(self, arr, k):\n",
    "        # return list of all subsets of length k\n",
    "        # to deal with duplicate subsets use \n",
    "        # set(list(combinations(arr, k)))\n",
    "        return list(combinations(arr, k))\n",
    "    \n",
    "    #\"graphical\" matrix (0/1 --> int64)\n",
    "    def matrix5(self,arr):\n",
    "        comb = self.comb(arr,5)\n",
    "        cols = self.n\n",
    "        rows = math.comb(cols,5)\n",
    "\n",
    "        z = np.zeros((rows), dtype = np.uint64)\n",
    "        i = 0\n",
    "        for c in comb:\n",
    "            \n",
    "            n1 = c[0]-1\n",
    "            n2 = c[1]-1\n",
    "            n3 = c[2]-1\n",
    "            n4 = c[3]-1\n",
    "            n5 = c[4]-1\n",
    "            \n",
    "            n = 2**n5+2**n4+2**n3+2**n2+2**n1             \n",
    "            \n",
    "            z[i] = n\n",
    "            \n",
    "            i += 1\n",
    "\n",
    "        return z, comb   \n",
    "\n",
    "    def test_m5(self):\n",
    "        i = 0\n",
    "        for n in self.m5:\n",
    "            print(n,int(np.binary_repr(n),2))\n",
    "            print(f\"{np.binary_repr(n).rjust(40):<40}\")\n",
    "            print(f\"{calc.c5[i]}\".rjust(40))\n",
    "            i += 1        \n",
    "        \n",
    "\n",
    "    def calc_intersect(self):\n",
    "        i = 0\n",
    "        for n1 in self.m5:\n",
    "            j = 0\n",
    "            for n2 in self.m5:\n",
    "                \n",
    "                res = np.bitwise_and(n1, n2)\n",
    "                bites = np.unpackbits(np.array([res], dtype='>i8').view(np.uint8))\n",
    "                common = np.sum(bites)\n",
    "                \n",
    "                j += 1\n",
    "             \n",
    "            i += 1    \n",
    "            \n",
    "    def calc_intersect2(self):\n",
    "        self.lista = [0]\n",
    "        \n",
    "        min_common = 100\n",
    "        hit = 0\n",
    "        min_i = 0\n",
    "\n",
    "        i  = 0\n",
    "        for n in self.m5:            \n",
    "            for idx in self.lista:\n",
    "                chosen = self.m5[idx]\n",
    "                \n",
    "                res = np.bitwise_and(n, chosen)\n",
    "                bites = np.unpackbits(np.array([res], dtype='>i8').view(np.uint8))\n",
    "                common = np.sum(bites)                \n",
    "                if(common <= min_common):\n",
    "                    min_common = common\n",
    "                    hit = n     \n",
    "                    min_i = i\n",
    "            i += 1       \n",
    "            \n",
    "        self.lista.append(min_i)\n",
    "        #self.m5 = np.delete(self.m5, min_i)\n",
    "        #print(min_common,hit,min_i)\n",
    "                    \n",
    "        \n",
    "            \n",
    "    def go(self):\n",
    "        #memory garbage collector\n",
    "        gc.enable()\n",
    "        gc.collect()\n",
    "    \n",
    "#arr = [1, 2, 3, 4, 5, 6, 7, 8, 9, 10]\n",
    "#or\n",
    "m=10\n",
    "arr = np.arange(start=1, stop=m+1, step=1)\n",
    "calc = Reducere2(arr)  \n",
    "calc.calc_intersect2()\n",
    "print(\"end\")\n",
    "#calc.test_m5()\n",
    "#calc.go()\n"
   ]
  },
  {
   "cell_type": "code",
   "execution_count": 182,
   "id": "03d9be13-24ef-465d-a5bf-b3b2d7623f22",
   "metadata": {},
   "outputs": [
    {
     "data": {
      "text/plain": [
       "4"
      ]
     },
     "execution_count": 182,
     "metadata": {},
     "output_type": "execute_result"
    }
   ],
   "source": [
    "np.sum([1,1,1,1,0,0,0,0])"
   ]
  },
  {
   "cell_type": "code",
   "execution_count": 199,
   "id": "8c1ec53e-434b-44f3-b7e3-eb6eec50f284",
   "metadata": {},
   "outputs": [
    {
     "data": {
      "text/plain": [
       "(1, 2, 3, 4, 5)"
      ]
     },
     "execution_count": 199,
     "metadata": {},
     "output_type": "execute_result"
    }
   ],
   "source": [
    "calc.c5[0]"
   ]
  },
  {
   "cell_type": "code",
   "execution_count": 204,
   "id": "1478a07a-c0b5-4a81-b379-2fd91d961ff0",
   "metadata": {},
   "outputs": [
    {
     "data": {
      "text/plain": [
       "(6, 7, 8, 9, 10)"
      ]
     },
     "execution_count": 204,
     "metadata": {},
     "output_type": "execute_result"
    }
   ],
   "source": [
    "calc.c5[251]"
   ]
  },
  {
   "cell_type": "code",
   "execution_count": null,
   "id": "d7a1fd71-b6f2-4e99-bb9e-59905aac9df5",
   "metadata": {},
   "outputs": [],
   "source": []
  }
 ],
 "metadata": {
  "kernelspec": {
   "display_name": "Python 3",
   "language": "python",
   "name": "python3"
  },
  "language_info": {
   "codemirror_mode": {
    "name": "ipython",
    "version": 3
   },
   "file_extension": ".py",
   "mimetype": "text/x-python",
   "name": "python",
   "nbconvert_exporter": "python",
   "pygments_lexer": "ipython3",
   "version": "3.8.10"
  }
 },
 "nbformat": 4,
 "nbformat_minor": 5
}
