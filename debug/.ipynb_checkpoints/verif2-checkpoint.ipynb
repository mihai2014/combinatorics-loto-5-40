{
 "cells": [
  {
   "cell_type": "code",
   "execution_count": 6,
   "id": "0b27b721-3b17-4623-8784-7b8879baf038",
   "metadata": {},
   "outputs": [
    {
     "data": {
      "text/plain": [
       "array([[ 5, 13, 26, 38, 37, 25],\n",
       "       [20, 32, 38, 21,  5, 11],\n",
       "       [32, 27, 38, 11, 10, 29],\n",
       "       ...,\n",
       "       [11, 35, 25,  4, 27, 24],\n",
       "       [ 3, 33, 25, 13, 17, 20],\n",
       "       [ 8, 37, 12,  9,  7,  4]])"
      ]
     },
     "execution_count": 6,
     "metadata": {},
     "output_type": "execute_result"
    }
   ],
   "source": [
    "import pandas as pd\n",
    "import numpy as np\n",
    "\n",
    "df=pd.read_csv('arhiva.txt', sep='\\t',header=None)\n",
    "#print(df.head(2))\n",
    "arr = df.to_numpy()\n",
    "#remove 1st column - data\n",
    "arr = arr[:,[1,2,3,4,5,6]]\n",
    "records = arr.shape[0]\n",
    "#remove header\n",
    "arr = arr[1:records,:]\n",
    "#strings to int\n",
    "df = pd.DataFrame(arr)\n",
    "df = df.astype(int)\n",
    "arr = df.to_numpy()\n",
    "arr"
   ]
  },
  {
   "cell_type": "code",
   "execution_count": 2,
   "id": "fad441e6-77d6-4053-99ea-0ae34e72fd7d",
   "metadata": {},
   "outputs": [
    {
     "name": "stdout",
     "output_type": "stream",
     "text": [
      "   0  1  2  3   4\n",
      "0  1  2  3  4  10\n",
      "1  5  6  7  8  14\n"
     ]
    },
    {
     "data": {
      "text/plain": [
       "array([[ 1,  2,  3,  4, 10],\n",
       "       [ 5,  6,  7,  8, 14],\n",
       "       [ 9, 11, 12, 13, 15],\n",
       "       [16, 17, 18, 19, 20],\n",
       "       [ 1,  2,  5,  9, 20],\n",
       "       [ 3,  4,  6, 11, 17],\n",
       "       [ 7,  8, 10, 12, 16],\n",
       "       [13, 14, 15, 18, 19],\n",
       "       [ 1,  2,  6, 12, 18],\n",
       "       [ 3,  4,  5, 13, 16],\n",
       "       [ 7,  9, 10, 11, 19],\n",
       "       [ 8, 14, 15, 17, 20],\n",
       "       [ 1,  2,  7, 13, 17],\n",
       "       [ 3,  5,  8, 11, 18],\n",
       "       [ 4,  6,  9, 14, 16]])"
      ]
     },
     "execution_count": 2,
     "metadata": {},
     "output_type": "execute_result"
    }
   ],
   "source": [
    "df=pd.read_csv('20_3_95.txt', sep=',',header=None)\n",
    "print(df.head(2))\n",
    "arr2 = df.to_numpy()\n",
    "arr2"
   ]
  },
  {
   "cell_type": "code",
   "execution_count": 3,
   "id": "b4e480f9-ecac-4c87-99ff-560c18dd62d1",
   "metadata": {},
   "outputs": [
    {
     "data": {
      "text/plain": [
       "array([[ 1,  2,  3,  4, 10],\n",
       "       [ 5,  6,  7,  8, 14],\n",
       "       [ 9, 11, 12, 13, 15],\n",
       "       [16, 17, 18, 19, 20],\n",
       "       [ 1,  2,  5,  9, 20],\n",
       "       [ 3,  4,  6, 11, 17],\n",
       "       [ 7,  8, 10, 12, 16],\n",
       "       [13, 14, 15, 18, 19],\n",
       "       [ 1,  2,  6, 12, 18],\n",
       "       [ 3,  4,  5, 13, 16],\n",
       "       [ 7,  9, 10, 11, 19],\n",
       "       [ 8, 14, 15, 17, 20],\n",
       "       [ 1,  2,  7, 13, 17],\n",
       "       [ 3,  5,  8, 11, 18],\n",
       "       [ 4,  6,  9, 14, 16]])"
      ]
     },
     "execution_count": 3,
     "metadata": {},
     "output_type": "execute_result"
    }
   ],
   "source": [
    "arr2"
   ]
  },
  {
   "cell_type": "code",
   "execution_count": null,
   "id": "9e8c47fd-c105-455e-a719-75c64642c444",
   "metadata": {},
   "outputs": [],
   "source": []
  },
  {
   "cell_type": "code",
   "execution_count": 11,
   "id": "c0673ab5-1773-4900-8d7c-15af8f8dc521",
   "metadata": {},
   "outputs": [],
   "source": [
    "def matrix(comb,n,k):\n",
    "    #comb = self.comb(arr,k)\n",
    "    #cols = com\n",
    "    #rows = math.comb(cols,k)\n",
    "\n",
    "    z = np.zeros((comb.shape[0],n), dtype = np.int8)\n",
    "    i = 0\n",
    "    for c in comb:\n",
    "\n",
    "        n1 = c[0]\n",
    "        n2 = c[1]\n",
    "        n3 = c[2]\n",
    "        n4 = c[3]\n",
    "        n5 = c[4]\n",
    "        if(k==6): \n",
    "            n6 = c[5]\n",
    "\n",
    "        z[i,n1-1] = 1\n",
    "        z[i,n2-1] = 1\n",
    "        z[i,n3-1] = 1\n",
    "        z[i,n4-1] = 1\n",
    "        z[i,n5-1] = 1\n",
    "        if(k==6): \n",
    "            z[i,n6-1] = 1\n",
    "\n",
    "        #print(i,z[i])\n",
    "        i += 1\n",
    "\n",
    "    return z"
   ]
  },
  {
   "cell_type": "code",
   "execution_count": 15,
   "id": "a21e4e84-9be4-4b3e-b31d-26764fbce034",
   "metadata": {},
   "outputs": [],
   "source": [
    "m1 = matrix(arr2,40,5)\n",
    "m2 = matrix(arr,40,6)\n",
    "intersect = m1 @ m2.T"
   ]
  },
  {
   "cell_type": "code",
   "execution_count": 17,
   "id": "4896dd93-fd44-4999-8437-dcf5f906b56e",
   "metadata": {},
   "outputs": [
    {
     "data": {
      "text/plain": [
       "(15, 1942)"
      ]
     },
     "execution_count": 17,
     "metadata": {},
     "output_type": "execute_result"
    }
   ],
   "source": [
    "intersect.shape"
   ]
  },
  {
   "cell_type": "code",
   "execution_count": 18,
   "id": "e29b0a36-5e3d-4b13-bf3c-87eb50ce3b5b",
   "metadata": {},
   "outputs": [
    {
     "data": {
      "text/plain": [
       "array([[0, 0, 1, ..., 1, 1, 1],\n",
       "       [1, 1, 0, ..., 0, 0, 2],\n",
       "       [1, 1, 1, ..., 1, 1, 2],\n",
       "       ...,\n",
       "       [1, 0, 0, ..., 0, 2, 1],\n",
       "       [1, 2, 1, ..., 1, 1, 1],\n",
       "       [0, 0, 0, ..., 1, 0, 2]], dtype=int8)"
      ]
     },
     "execution_count": 18,
     "metadata": {},
     "output_type": "execute_result"
    }
   ],
   "source": [
    "intersect"
   ]
  },
  {
   "cell_type": "code",
   "execution_count": 30,
   "id": "f0ae3608-8d86-4f8b-93ba-79ce8571248b",
   "metadata": {},
   "outputs": [
    {
     "name": "stdout",
     "output_type": "stream",
     "text": [
      "verif-selected intersections:  [0 4]\n"
     ]
    }
   ],
   "source": [
    "#change to 0 all values < max_intersect\n",
    "intersect = np.where(intersect < 4, 0, intersect)\n",
    "print(\"verif-selected intersections: \",np.unique(intersect))  "
   ]
  },
  {
   "cell_type": "code",
   "execution_count": 26,
   "id": "93eaf330-c691-4369-9f56-946646d95a11",
   "metadata": {},
   "outputs": [],
   "source": [
    "#t = np.sum(intersect,axis=1)"
   ]
  },
  {
   "cell_type": "code",
   "execution_count": 32,
   "id": "caa8e61c-c734-4cba-8223-58c8c1c2eafe",
   "metadata": {},
   "outputs": [
    {
     "data": {
      "text/plain": [
       "(array([ 0,  0,  1,  1,  2,  3,  4,  4,  5,  7,  9,  9,  9,  9, 10, 10, 10,\n",
       "        11, 11, 13, 14]),\n",
       " array([ 357, 1261,  349, 1661, 1667, 1211,  271,  272, 1474, 1288,  961,\n",
       "         985, 1306, 1607,  238,  360,  587,  186, 1634, 1831,  302]))"
      ]
     },
     "execution_count": 32,
     "metadata": {},
     "output_type": "execute_result"
    }
   ],
   "source": [
    "np.where(intersect> 0)"
   ]
  },
  {
   "cell_type": "code",
   "execution_count": null,
   "id": "0cc665a4-06b3-4e0b-8886-f71600a30537",
   "metadata": {},
   "outputs": [],
   "source": []
  }
 ],
 "metadata": {
  "kernelspec": {
   "display_name": "Python 3",
   "language": "python",
   "name": "python3"
  },
  "language_info": {
   "codemirror_mode": {
    "name": "ipython",
    "version": 3
   },
   "file_extension": ".py",
   "mimetype": "text/x-python",
   "name": "python",
   "nbconvert_exporter": "python",
   "pygments_lexer": "ipython3",
   "version": "3.8.10"
  }
 },
 "nbformat": 4,
 "nbformat_minor": 5
}
