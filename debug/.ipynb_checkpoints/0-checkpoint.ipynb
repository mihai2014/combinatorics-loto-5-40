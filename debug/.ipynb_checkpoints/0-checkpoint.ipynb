{
 "cells": [
  {
   "cell_type": "markdown",
   "id": "4319019f-4694-4531-ac36-3bc6c9d06327",
   "metadata": {},
   "source": [
    "Explore boolean"
   ]
  },
  {
   "cell_type": "code",
   "execution_count": 1,
   "id": "9a0aa995-97cb-41bf-9f07-81b982b32605",
   "metadata": {},
   "outputs": [],
   "source": [
    "import numpy as np"
   ]
  },
  {
   "cell_type": "code",
   "execution_count": 5,
   "id": "26ff5328-2650-4c29-9ea5-91fd49bc4c86",
   "metadata": {},
   "outputs": [
    {
     "name": "stdout",
     "output_type": "stream",
     "text": [
      "[[ True  True False]\n",
      " [ True  True  True]\n",
      " [False  True  True]]\n"
     ]
    }
   ],
   "source": [
    "a = np.array([[1,  0],\n",
    "              [1,  1],\n",
    "              [0,  1]], dtype=bool)\n",
    "\n",
    "b = np.array([[1,  1,  0],\n",
    "              [0,  1,  1]], dtype=bool)\n",
    "\n",
    "print(np.dot(a,b))"
   ]
  },
  {
   "cell_type": "code",
   "execution_count": 7,
   "id": "a38d1a54-7e14-4773-9e8c-b084db37e003",
   "metadata": {},
   "outputs": [
    {
     "name": "stdout",
     "output_type": "stream",
     "text": [
      "[[1 1 0]\n",
      " [1 1 1]\n",
      " [0 1 1]]\n"
     ]
    }
   ],
   "source": [
    "print(1*np.dot(a,b))"
   ]
  },
  {
   "cell_type": "code",
   "execution_count": 12,
   "id": "4879b89a-d502-4be6-b7ae-6d7ee12c2df1",
   "metadata": {},
   "outputs": [
    {
     "data": {
      "text/plain": [
       "array([[ True,  True,  True],\n",
       "       [ True,  True,  True],\n",
       "       [ True,  True,  True]])"
      ]
     },
     "execution_count": 12,
     "metadata": {},
     "output_type": "execute_result"
    }
   ],
   "source": [
    "m1 = np.array(\n",
    "    [[1,1,1,1,1,0,0,0,0,0],\n",
    "     [1,1,1,1,0,1,0,0,0,0],\n",
    "     [1,1,1,1,0,0,1,0,0,0]], dtype=bool    \n",
    ")\n",
    "m2 = np.array(\n",
    "    [[1,1,1,1,1,1,0,0,0,0],\n",
    "     [1,1,1,1,1,0,1,0,0,0],\n",
    "     [1,1,1,1,1,0,0,1,0,0]], dtype=bool    \n",
    ")\n",
    "np.dot(m1,m2.T)"
   ]
  },
  {
   "cell_type": "code",
   "execution_count": 13,
   "id": "4fc30cf4-a040-4e0e-8a36-2578a514fb29",
   "metadata": {},
   "outputs": [
    {
     "data": {
      "text/plain": [
       "array([[5, 5, 5],\n",
       "       [5, 4, 4],\n",
       "       [4, 5, 4]], dtype=int8)"
      ]
     },
     "execution_count": 13,
     "metadata": {},
     "output_type": "execute_result"
    }
   ],
   "source": [
    "m1 = np.array(\n",
    "    [[1,1,1,1,1,0,0,0,0,0],\n",
    "     [1,1,1,1,0,1,0,0,0,0],\n",
    "     [1,1,1,1,0,0,1,0,0,0]], dtype=np.int8    \n",
    ")\n",
    "m2 = np.array(\n",
    "    [[1,1,1,1,1,1,0,0,0,0],\n",
    "     [1,1,1,1,1,0,1,0,0,0],\n",
    "     [1,1,1,1,1,0,0,1,0,0]], dtype=np.int8    \n",
    ")\n",
    "np.dot(m1,m2.T)"
   ]
  },
  {
   "cell_type": "code",
   "execution_count": 14,
   "id": "d3cc5fe3-0630-4e1c-9122-36d1ba4c431f",
   "metadata": {},
   "outputs": [
    {
     "data": {
      "text/plain": [
       "1"
      ]
     },
     "execution_count": 14,
     "metadata": {},
     "output_type": "execute_result"
    }
   ],
   "source": [
    "np.bitwise_and(13, 17)"
   ]
  },
  {
   "cell_type": "code",
   "execution_count": 3,
   "id": "5eb2c2c7-fa11-475f-83bb-94eb0923209b",
   "metadata": {},
   "outputs": [
    {
     "data": {
      "text/plain": [
       "658008"
      ]
     },
     "execution_count": 3,
     "metadata": {},
     "output_type": "execute_result"
    }
   ],
   "source": [
    "import math\n",
    "math.comb(40,5)"
   ]
  },
  {
   "cell_type": "code",
   "execution_count": 17,
   "id": "01c5e575-6ba4-4291-a76d-bf0308a41c99",
   "metadata": {},
   "outputs": [
    {
     "data": {
      "text/plain": [
       "3838380"
      ]
     },
     "execution_count": 17,
     "metadata": {},
     "output_type": "execute_result"
    }
   ],
   "source": [
    "math.comb(40,6)"
   ]
  },
  {
   "cell_type": "code",
   "execution_count": 4,
   "id": "502fcfb3-5ec5-4e37-8659-8a708944f274",
   "metadata": {},
   "outputs": [
    {
     "data": {
      "text/plain": [
       "21"
      ]
     },
     "execution_count": 4,
     "metadata": {},
     "output_type": "execute_result"
    }
   ],
   "source": [
    "math.comb(7,2)"
   ]
  },
  {
   "cell_type": "code",
   "execution_count": 5,
   "id": "5384b0f0-a886-4a2e-a4f1-3738e594a2aa",
   "metadata": {},
   "outputs": [
    {
     "data": {
      "text/plain": [
       "42"
      ]
     },
     "execution_count": 5,
     "metadata": {},
     "output_type": "execute_result"
    }
   ],
   "source": [
    "math.perm(7, 2)"
   ]
  },
  {
   "cell_type": "code",
   "execution_count": null,
   "id": "46c99c2e-08b8-4843-ada4-854b18f803c7",
   "metadata": {},
   "outputs": [],
   "source": []
  }
 ],
 "metadata": {
  "kernelspec": {
   "display_name": "Python 3",
   "language": "python",
   "name": "python3"
  },
  "language_info": {
   "codemirror_mode": {
    "name": "ipython",
    "version": 3
   },
   "file_extension": ".py",
   "mimetype": "text/x-python",
   "name": "python",
   "nbconvert_exporter": "python",
   "pygments_lexer": "ipython3",
   "version": "3.8.10"
  }
 },
 "nbformat": 4,
 "nbformat_minor": 5
}
