{
 "cells": [
  {
   "cell_type": "code",
   "execution_count": 17,
   "id": "db839f60-a961-4772-a5eb-b0d7afb85892",
   "metadata": {},
   "outputs": [
    {
     "name": "stdout",
     "output_type": "stream",
     "text": [
      "init\n",
      "m1- (3003, 15)\n",
      "m2- (5005, 15)\n",
      "ready\n"
     ]
    },
    {
     "ename": "UnboundLocalError",
     "evalue": "local variable 'f' referenced before assignment",
     "output_type": "error",
     "traceback": [
      "\u001b[0;31m---------------------------------------------------------------------------\u001b[0m",
      "\u001b[0;31mUnboundLocalError\u001b[0m                         Traceback (most recent call last)",
      "\u001b[0;32m<ipython-input-17-eb930ccf4bb1>\u001b[0m in \u001b[0;36m<module>\u001b[0;34m\u001b[0m\n\u001b[1;32m    257\u001b[0m \u001b[0marr\u001b[0m \u001b[0;34m=\u001b[0m \u001b[0mnp\u001b[0m\u001b[0;34m.\u001b[0m\u001b[0marange\u001b[0m\u001b[0;34m(\u001b[0m\u001b[0mstart\u001b[0m\u001b[0;34m=\u001b[0m\u001b[0;36m1\u001b[0m\u001b[0;34m,\u001b[0m \u001b[0mstop\u001b[0m\u001b[0;34m=\u001b[0m\u001b[0mm\u001b[0m\u001b[0;34m+\u001b[0m\u001b[0;36m1\u001b[0m\u001b[0;34m,\u001b[0m \u001b[0mstep\u001b[0m\u001b[0;34m=\u001b[0m\u001b[0;36m1\u001b[0m\u001b[0;34m)\u001b[0m\u001b[0;34m\u001b[0m\u001b[0;34m\u001b[0m\u001b[0m\n\u001b[1;32m    258\u001b[0m \u001b[0mcalc\u001b[0m \u001b[0;34m=\u001b[0m \u001b[0mReducere\u001b[0m\u001b[0;34m(\u001b[0m\u001b[0marr\u001b[0m\u001b[0;34m,\u001b[0m\u001b[0mmax_intersect\u001b[0m\u001b[0;34m)\u001b[0m\u001b[0;34m\u001b[0m\u001b[0;34m\u001b[0m\u001b[0m\n\u001b[0;32m--> 259\u001b[0;31m \u001b[0mcalc\u001b[0m\u001b[0;34m.\u001b[0m\u001b[0mgo\u001b[0m\u001b[0;34m(\u001b[0m\u001b[0;34m)\u001b[0m\u001b[0;34m\u001b[0m\u001b[0;34m\u001b[0m\u001b[0m\n\u001b[0m",
      "\u001b[0;32m<ipython-input-17-eb930ccf4bb1>\u001b[0m in \u001b[0;36mgo\u001b[0;34m(self)\u001b[0m\n\u001b[1;32m    232\u001b[0m         \u001b[0mself\u001b[0m\u001b[0;34m.\u001b[0m\u001b[0msolutions\u001b[0m \u001b[0;34m=\u001b[0m \u001b[0;34m[\u001b[0m\u001b[0;34m]\u001b[0m\u001b[0;34m\u001b[0m\u001b[0;34m\u001b[0m\u001b[0m\n\u001b[1;32m    233\u001b[0m \u001b[0;34m\u001b[0m\u001b[0m\n\u001b[0;32m--> 234\u001b[0;31m         \u001b[0mself\u001b[0m\u001b[0;34m.\u001b[0m\u001b[0mpredefinedSol\u001b[0m\u001b[0;34m(\u001b[0m\u001b[0;34m[\u001b[0m\u001b[0;36m286\u001b[0m\u001b[0;34m]\u001b[0m\u001b[0;34m,\u001b[0m\u001b[0mf\u001b[0m\u001b[0;34m)\u001b[0m\u001b[0;34m\u001b[0m\u001b[0;34m\u001b[0m\u001b[0m\n\u001b[0m\u001b[1;32m    235\u001b[0m \u001b[0;34m\u001b[0m\u001b[0m\n\u001b[1;32m    236\u001b[0m         \u001b[0mself\u001b[0m\u001b[0;34m.\u001b[0m\u001b[0mcalc_intersect\u001b[0m\u001b[0;34m(\u001b[0m\u001b[0;34m)\u001b[0m\u001b[0;34m\u001b[0m\u001b[0;34m\u001b[0m\u001b[0m\n",
      "\u001b[0;31mUnboundLocalError\u001b[0m: local variable 'f' referenced before assignment"
     ]
    }
   ],
   "source": [
    "#        m1                             m2\n",
    "#Ex: 12......n                       12....n       \n",
    "# -------------------5-----------------------------6\n",
    "#    1111100000 |  C    = rows      11111100.. | C\n",
    "#    1111010000 |   arr             1111101..  |  arr\n",
    "#    ...        |                   ...        |\n",
    "#         11111 V                      111111  V\n",
    "#\n",
    "# intersect   = m1 X m2.T\n",
    "#    c6 ---->  (axis=1)\n",
    "# c5 \n",
    "# |   5 5 ....\n",
    "# |   ... \n",
    "# v   ..  0 0\n",
    "#\n",
    "# (axis=0)\n",
    "\n",
    "# Function which returns subset or r length from n\n",
    "from itertools import combinations\n",
    "\n",
    "import numpy as np\n",
    "import math\n",
    "import sys\n",
    "import os\n",
    "import gc\n",
    "\n",
    "class Reducere():\n",
    "    def __init__(self, arr, max_intersect):\n",
    "        print(\"init\")\n",
    "        self.max_intersect = max_intersect\n",
    "        self.intersect = np.empty([0])\n",
    "        self.arr = arr\n",
    "        self.n = len(self.arr)\n",
    "        self.m1, self.c1 = self.matrix(self.arr,5)\n",
    "        self.m2, self.c2 = self.matrix(self.arr,6)     \n",
    "        print(\"m1-\",self.m1.shape)\n",
    "        print(\"m2-\",self.m2.shape)        \n",
    "        print(\"ready\")\n",
    "\n",
    "    def mem(self):\n",
    "        #total = 0\n",
    "        #total += self.m1.nbytes\n",
    "        #total += self.m2.nbytes\n",
    "        #total += self.intersect.nbytes\n",
    "        #total = round(total / 1024, 2)\n",
    "        #print(f\"Memory usage: {total} Kb\")\n",
    "\n",
    "        total = 0\n",
    "        total += sys.getsizeof(self.m1)\n",
    "        total += sys.getsizeof(self.m2)\n",
    "        total += sys.getsizeof(self.intersect)\n",
    "        total = round(total / 1024, 2)\n",
    "        print(f\"Memory usage: {total} Kb\")\n",
    "        \n",
    "    def fv(self,number_list):        \n",
    "        # freqeuncies of unique numbers in list (\"calc count all\")\n",
    "        (unique, counts) = np.unique(number_list, return_counts=True)\n",
    "        frequencies = np.asarray((unique, counts)).T\n",
    "        return frequencies\n",
    "        \n",
    "    def comb(self, arr, k):\n",
    "        # return list of all subsets of length k\n",
    "        # to deal with duplicate subsets use \n",
    "        # set(list(combinations(arr, k)))\n",
    "        return list(combinations(arr, k))\n",
    "\n",
    "    #\"graphical\" matrix (0/1 int8)\n",
    "    def matrix(self,arr,k):\n",
    "        comb = self.comb(arr,k)\n",
    "        cols = self.n\n",
    "        rows = math.comb(cols,k)\n",
    "        \n",
    "        z = np.zeros((rows,cols), dtype = np.int8)\n",
    "        i = 0\n",
    "        for c in comb:\n",
    "            \n",
    "            n1 = c[0]\n",
    "            n2 = c[1]\n",
    "            n3 = c[2]\n",
    "            n4 = c[3]\n",
    "            n5 = c[4]\n",
    "            if(k==6): \n",
    "                n6 = c[5]\n",
    "            \n",
    "            z[i,n1-1] = 1\n",
    "            z[i,n2-1] = 1\n",
    "            z[i,n3-1] = 1\n",
    "            z[i,n4-1] = 1\n",
    "            z[i,n5-1] = 1\n",
    "            if(k==6): \n",
    "                z[i,n6-1] = 1\n",
    "                \n",
    "            #print(i,z[i])\n",
    "            i += 1\n",
    "\n",
    "        return z, comb   \n",
    "\n",
    "    def count_c6(self):\n",
    "        #1st, every c6 will have 6 sum (1x6)\n",
    "        #after selection, sum=0\n",
    "        sums = np.sum(self.m2,axis=1)\n",
    "        #nr of 6's\n",
    "        #print(\"c6-remaining\",np.sum(sums)/6)\n",
    "        return (np.sum(sums)/6)\n",
    "\n",
    "    def calc_intersect(self):\n",
    "        #intersect\n",
    "        #m1   rows = (index) C arr 5\n",
    "        #m2   rows = (index) C arr 6\n",
    "        #m2.T cols = (index) C arr 6\n",
    "\n",
    "        print(\"start intersect\")\n",
    "\n",
    "        #intersects between combinations (common digits)\n",
    "        self.intersect = self.m1 @ self.m2.T\n",
    "        #restrict number of intersections (common digits)\n",
    "        #change to 0 all values < max_intersect\n",
    "        self.intersect = np.where(self.intersect < self.max_intersect, 0, self.intersect)\n",
    "        \n",
    "        print(\"end intersect\")\n",
    "        \n",
    "        print(\"verif-distinct intersections selected: \",np.unique(self.intersect))\n",
    "    \n",
    "        #test 10 numbers (1st choice: total 55 intersections) for max_intersect = 4\n",
    "        #print(self.fv(self.intersect[0]))\n",
    "\n",
    "    def predefinedSol(self,sol,f):\n",
    "        for item in sol:\n",
    "            print(\"predefined - c5 selection (index):\",item, self.c1[item])\n",
    "            f.write( str(self.c1[item])+'\\n' )\n",
    "            self.solutions.append(item)   \n",
    "            \n",
    "        #empty selected c6 (intesext columns)\n",
    "        c6_indexes = np.where(self.intersect[item] > 0)\n",
    "        self.intersect[:,c6_indexes] = 0\n",
    "        \n",
    "        #empty selected c5 (intersect row)\n",
    "        self.intersect[item] = 0            \n",
    "    \n",
    "    def select(self,i,f):\n",
    "\n",
    "        #another possibility of selection : to explore\n",
    "        #totalintersects = np.sum(self.intersect,axis=1)\n",
    "        \n",
    "        #selected intersections\n",
    "        nonzero = np.count_nonzero(self.intersect,axis=1)\n",
    "        #index of c5\n",
    "        first_max_idx = np.where(nonzero == np.max(nonzero))[0][0]\n",
    "        \n",
    "        if(nonzero[first_max_idx] != 0):\n",
    "            print(i,\"intersect:\",nonzero[first_max_idx], \"c5 selection (index):\",first_max_idx, self.c1[first_max_idx])\n",
    "\n",
    "            f.write( str(self.c1[first_max_idx])+'\\n' )\n",
    "            self.solutions.append(first_max_idx)\n",
    "        \n",
    "        #mark selection\n",
    "                \n",
    "        #empty selected c6 (intesext columns)\n",
    "        c6_indexes = np.where(self.intersect[first_max_idx] > 0)\n",
    "        self.intersect[:,c6_indexes] = 0\n",
    "        \n",
    "        #empty selected c5 (intersect row)\n",
    "        self.intersect[first_max_idx] = 0\n",
    "        \n",
    "        return nonzero[first_max_idx]\n",
    "\n",
    "    def free_mem(self):\n",
    "        try:\n",
    "            del self.m1\n",
    "            del self.m2\n",
    "            del self.c1\n",
    "            del self.c2\n",
    "            del self.intersect        \n",
    "            del self.intersect2\n",
    "        except:\n",
    "            pass\n",
    "        gc.collect()\n",
    "    \n",
    "    def diagnose(self):\n",
    "        print(\"Evaluate solution\")\n",
    "        \n",
    "        print(\"Free memory(intersections matrix)...\")\n",
    "        #del self.intersect\n",
    "        gc.collect()\n",
    "\n",
    "        print(\"Recompute intersections only with chosen solutions...\")\n",
    "        sol = np.array(self.solutions)\n",
    "        self.m1Sol = self.m1[sol,:]\n",
    "        #print(self.m1Sol)\n",
    "        self.intersect2 = self.m1Sol @ self.m2.T\n",
    "        #change to 0 all values < max_intersect\n",
    "        self.intersect2 = np.where(self.intersect2 < self.max_intersect, 0, self.intersect2)\n",
    "        \n",
    "        print(\"ready\")\n",
    "        print(\"Solution intersections matrix:\")\n",
    "        #print(self.intersect2.shape)\n",
    "        print(self.intersect2)\n",
    "        \n",
    "        print(\"verif-selected intersections: \",np.unique(self.intersect2))    \n",
    "        \n",
    "        t = np.sum(self.intersect2,axis=0)\n",
    "        #sums of all intersections specified / every c6\n",
    "        #print(t)\n",
    "        c6_not_hitted = np.where(t == 0)[0]\n",
    "        if (c6_not_hitted.size == 0):\n",
    "            print(\"Solution ok. All c6 are 'hitted' by the intersect condition\")\n",
    "        else:\n",
    "            print(f\"Error: {c6_not_hitted.size} c6 combinations are not 'hitted' by the intersect condition!\")    \n",
    "\n",
    "        #max intersect / every c6\n",
    "        c6_hit = np.max(self.intersect2,axis=0)\n",
    "        #fv \n",
    "        c6_total_cover_fv = self.fv(c6_hit)\n",
    "        print(\"c6 cover frequency:\\n\", c6_total_cover_fv)\n",
    "        print(\"Total c6(verif): \", np.sum(c6_total_cover_fv,axis=0)[1])\n",
    "            \n",
    "        #calc_count = self.fv(t)\n",
    "        #print(calc_count)\n",
    "\n",
    "        #print(\"Solution intersections:\")\n",
    "        \n",
    "        #nr = len(self.solutions)\n",
    "        #for nr in range(nr):\n",
    "        #    print(\"---------------------------\")\n",
    "        #    c6_count = self.fv(self.intersect2[nr])\n",
    "        #    #exclude 0 frequency\n",
    "        #    c6_count = c6_count[c6_count[:,0] > 0] \n",
    "        #    print(nr,'\\n',c6_count)\n",
    "        \n",
    "    \n",
    "    def go(self):\n",
    "        os.system(\"rm result.txt\")\n",
    "        f = open(\"result.txt\", \"a\")        \n",
    "\n",
    "        self.solutions = []\n",
    "        \n",
    "        self.predefinedSol([286],f)\n",
    "        \n",
    "        self.calc_intersect()\n",
    "\n",
    "        i = 0\n",
    "        score = -1\n",
    "        while(score != 0):\n",
    "            i+=1\n",
    "            score = self.select(i,f)\n",
    "\n",
    "        f.close()\n",
    "\n",
    "        self.diagnose()\n",
    "        \n",
    "        print(\"See result.txt\")\n",
    "       \n",
    "#arr = [1, 2, 3, 4, 5, 6, 7, 8, 9, 10]\n",
    "#or\n",
    "m=15\n",
    "max_intersect = 3\n",
    "arr = np.arange(start=1, stop=m+1, step=1)\n",
    "calc = Reducere(arr,max_intersect)\n",
    "calc.go()\n"
   ]
  },
  {
   "cell_type": "code",
   "execution_count": 2,
   "id": "a306ee44-96c9-411c-be20-961ec44c49f2",
   "metadata": {},
   "outputs": [
    {
     "data": {
      "text/plain": [
       "array([[1, 1, 1, ..., 0, 0, 0],\n",
       "       [1, 1, 1, ..., 0, 0, 0],\n",
       "       [1, 1, 1, ..., 0, 0, 0],\n",
       "       ...,\n",
       "       [0, 0, 0, ..., 1, 1, 1],\n",
       "       [0, 0, 0, ..., 1, 1, 1],\n",
       "       [0, 0, 0, ..., 1, 1, 1]], dtype=int8)"
      ]
     },
     "execution_count": 2,
     "metadata": {},
     "output_type": "execute_result"
    }
   ],
   "source": [
    "calc.m1"
   ]
  },
  {
   "cell_type": "code",
   "execution_count": null,
   "id": "fdf49b93-18ae-4e3b-8abd-6d73e126b129",
   "metadata": {},
   "outputs": [],
   "source": []
  },
  {
   "cell_type": "markdown",
   "id": "72ec07c3-4af8-4132-92f3-7e63d5ad2c6f",
   "metadata": {},
   "source": [
    "### Verif file solution"
   ]
  },
  {
   "cell_type": "code",
   "execution_count": 3,
   "id": "18e5855a-a8b4-452a-a308-1e586da40791",
   "metadata": {},
   "outputs": [
    {
     "name": "stdout",
     "output_type": "stream",
     "text": [
      "[[ 1  3  4  5  6]\n",
      " [ 1  4  5 10 14]\n",
      " [ 2  7  8 12 15]\n",
      " [ 2  8  9 12 13]\n",
      " [ 3  7  9 11 15]\n",
      " [ 3 10 11 13 14]\n",
      " [ 6  7 11 13 15]\n",
      " [ 6  9 10 11 14]]\n"
     ]
    }
   ],
   "source": [
    "import pandas as pd\n",
    "df=pd.read_csv('15_3_sol.txt', sep=',',header=None)\n",
    "#print(df.head(8))\n",
    "sol = df.to_numpy()\n",
    "print(sol)\n",
    "#print(ndarray[:2,:])"
   ]
  },
  {
   "cell_type": "code",
   "execution_count": 4,
   "id": "f1910def-a3d1-47ba-92be-95388298d98e",
   "metadata": {},
   "outputs": [
    {
     "name": "stdout",
     "output_type": "stream",
     "text": [
      "[(1, 3, 4, 5, 6), (1, 4, 5, 10, 14), (2, 7, 8, 12, 15), (2, 8, 9, 12, 13), (3, 7, 9, 11, 15), (3, 10, 11, 13, 14), (6, 7, 11, 13, 15), (6, 9, 10, 11, 14)]\n"
     ]
    }
   ],
   "source": [
    "#convert data to list of tuples\n",
    "it = np.nditer(sol, flags=['f_index'],order='C')\n",
    "id = 0\n",
    "solMatrix = []\n",
    "acc = []\n",
    "for x in it:\n",
    "    id += 1\n",
    "    #print(f\"{it.index}--{x}\")\n",
    "    acc.append(np.int8(x))\n",
    "    if(id == 5):\n",
    "        #print(acc)\n",
    "        itemTuple = tuple(acc)\n",
    "        #print(totuple)        \n",
    "        solMatrix.append(itemTuple)\n",
    "        id = 0\n",
    "        acc = []\n",
    "        \n",
    "print(solMatrix)        "
   ]
  },
  {
   "cell_type": "code",
   "execution_count": null,
   "id": "1d7b91ff-65e3-4f53-b29b-925a994b84f7",
   "metadata": {},
   "outputs": [],
   "source": []
  },
  {
   "cell_type": "code",
   "execution_count": 5,
   "id": "a256f992-28b7-428b-a2b4-1c98c3217353",
   "metadata": {},
   "outputs": [
    {
     "name": "stdout",
     "output_type": "stream",
     "text": [
      "[286, 539, 1607, 1655, 2114, 2199, 2801, 2844]\n"
     ]
    }
   ],
   "source": [
    "#get index of c5 from self.c5 list of tuples comb\n",
    "def get_index(tupleItem,listAllTuples):\n",
    "    for i in range(len(listAllTuples)):\n",
    "        #print(listAllTuples[i])\n",
    "        if(tupleItem == listAllTuples[i]):\n",
    "            return i\n",
    "    return -1    \n",
    "\n",
    "solIdxList = []\n",
    "for item in solMatrix:\n",
    "    idx = get_index(item,calc.c1)    \n",
    "    solIdxList.append(idx)\n",
    "\n",
    "print(solIdxList)    "
   ]
  },
  {
   "cell_type": "code",
   "execution_count": 6,
   "id": "db397149-0032-4e97-b2f5-fe7076766bb6",
   "metadata": {},
   "outputs": [],
   "source": [
    "#select all rows with indexes\n",
    "#calc.m1[solIdxList,:]"
   ]
  },
  {
   "cell_type": "code",
   "execution_count": 7,
   "id": "2f47b33c-4b51-4caf-a9e6-4e548d5364fb",
   "metadata": {},
   "outputs": [],
   "source": [
    "#init/overwrite solution in diagnose procedure\n",
    "calc.solutions = solIdxList"
   ]
  },
  {
   "cell_type": "code",
   "execution_count": 8,
   "id": "38f660bf-e6b0-4e9b-9b3f-33d84733fd9b",
   "metadata": {},
   "outputs": [
    {
     "name": "stdout",
     "output_type": "stream",
     "text": [
      "Evaluate solution\n",
      "Free memory(intersections matrix)...\n",
      "Recompute intersections only with chosen solutions...\n",
      "ready\n",
      "Solution intersections matrix:\n",
      "[[5 4 4 ... 0 0 0]\n",
      " [3 3 3 ... 0 0 0]\n",
      " [0 0 0 ... 0 0 0]\n",
      " ...\n",
      " [0 0 0 ... 3 3 4]\n",
      " [0 0 0 ... 0 3 3]\n",
      " [0 0 0 ... 3 3 3]]\n",
      "verif-selected intersections:  [0 3 4 5]\n",
      "Solution ok. All c6 are 'hitted' by the intersect condition\n",
      "c6 cover frequency:\n",
      " [[   3 3345]\n",
      " [   4 1580]\n",
      " [   5   80]]\n",
      "Total c6(verif):  5005\n"
     ]
    }
   ],
   "source": [
    "calc.diagnose()"
   ]
  },
  {
   "cell_type": "code",
   "execution_count": null,
   "id": "f5ee4838-966f-4fc5-9cba-73f212ec355b",
   "metadata": {},
   "outputs": [],
   "source": []
  },
  {
   "cell_type": "code",
   "execution_count": 11,
   "id": "f6e54cac-93b2-4199-8a00-5d1fdebe3892",
   "metadata": {},
   "outputs": [
    {
     "data": {
      "text/plain": [
       "[286, 539, 1607, 1655, 2114, 2199, 2801, 2844]"
      ]
     },
     "execution_count": 11,
     "metadata": {},
     "output_type": "execute_result"
    }
   ],
   "source": [
    "calc.solutions"
   ]
  },
  {
   "cell_type": "code",
   "execution_count": 13,
   "id": "1624822f-37ae-4853-84a4-98d8de10069b",
   "metadata": {},
   "outputs": [
    {
     "data": {
      "text/plain": [
       "array([1, 0, 1, 1, 1, 1, 0, 0, 0, 0, 0, 0, 0, 0, 0], dtype=int8)"
      ]
     },
     "execution_count": 13,
     "metadata": {},
     "output_type": "execute_result"
    }
   ],
   "source": [
    "calc.m1[286]"
   ]
  },
  {
   "cell_type": "markdown",
   "id": "61d86479-6aca-4674-97cf-ea13cce0fdc2",
   "metadata": {},
   "source": [
    "    3 3024   3345\n",
    "    4 1882   1580\n",
    "    5   99     80"
   ]
  }
 ],
 "metadata": {
  "kernelspec": {
   "display_name": "Python 3",
   "language": "python",
   "name": "python3"
  },
  "language_info": {
   "codemirror_mode": {
    "name": "ipython",
    "version": 3
   },
   "file_extension": ".py",
   "mimetype": "text/x-python",
   "name": "python",
   "nbconvert_exporter": "python",
   "pygments_lexer": "ipython3",
   "version": "3.8.10"
  }
 },
 "nbformat": 4,
 "nbformat_minor": 5
}
