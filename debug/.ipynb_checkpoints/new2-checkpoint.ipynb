{
 "cells": [
  {
   "cell_type": "code",
   "execution_count": 112,
   "id": "76208b62-13b6-4aaf-9963-63b92c8d63e2",
   "metadata": {},
   "outputs": [
    {
     "name": "stdout",
     "output_type": "stream",
     "text": [
      "c5: 3003\n",
      "0 2750 (6, 7, 8, 9, 10)\n",
      "--------------------------------\n",
      "(1, 2, 3, 4, 5)\n",
      "0 2750 (6, 7, 8, 9, 11)\n",
      "(6, 7, 8, 9, 10)\n",
      "0 5 (1, 2, 3, 4, 11)\n"
     ]
    }
   ],
   "source": [
    "# Function which returns subset or r length from n\n",
    "from itertools import combinations\n",
    "import numpy as np\n",
    "import math\n",
    "import sys\n",
    "import os\n",
    "import gc\n",
    "import time\n",
    "import sys\n",
    "\n",
    "class Reducere():\n",
    "    def __init__(self, arr):\n",
    "        pass\n",
    "        self.n = len(arr)\n",
    "        self.c5 = self.matrix5(arr)\n",
    "        print(\"c5:\",len(self.c5))\n",
    "        #init\n",
    "        #self.solution = [self.c5[0]]\n",
    "        #del self.c5[0]\n",
    "        \n",
    "        \n",
    "        \n",
    "        \n",
    "    def comb(self, arr, k):\n",
    "        # return list of all subsets of length k\n",
    "        # to deal with duplicate subsets use \n",
    "        # set(list(combinations(arr, k)))\n",
    "        return list(combinations(arr, k))\n",
    "    \n",
    "    def matrix5(self,arr):\n",
    "        comb = self.comb(arr,5)\n",
    "        cols = self.n\n",
    "        rows = math.comb(cols,5)\n",
    "        \n",
    "        return comb \n",
    "\n",
    "    def common(self,c1,c2):\n",
    "        total = 0\n",
    "        for i in range(5):\n",
    "            nr1 = c1[i]\n",
    "            for i in range(5):\n",
    "                nr2 = c2[i]\n",
    "                if(nr1 == nr2):\n",
    "                    total += 1\n",
    "        return total            \n",
    "    \n",
    "    def min_common(self,c1):\n",
    "        i = 0\n",
    "        #just some 'big' number\n",
    "        min_common = 100             \n",
    "        for c2 in self.c5:\n",
    "            nr_common = self.common(c2,c1)            \n",
    "            if(nr_common < min_common):\n",
    "                min_common = nr_common\n",
    "                c5_choose = c2\n",
    "                hit_index = i\n",
    "            i += 1       \n",
    "                                            \n",
    "        return min_common, hit_index, c5_choose   \n",
    "    \n",
    "    def go(self):\n",
    "        #init\n",
    "        min_choose = 0\n",
    "\n",
    "        #while(min_choose <= 2):\n",
    "        #    min_common, hit_index ,c5_choose  = self.select()\n",
    "        #    self.solution.append(c5_choose)\n",
    "        #    del self.c5[hit_index]\n",
    "        #    print(min_common, c5_choose)\n",
    "        \n",
    "        self.solution = [self.c5[0]]\n",
    "        del self.c5[0]\n",
    "        \n",
    "        min_common, hit_index ,c5_choose = self.min_common(self.solution[0])\n",
    "        self.solution.append(self.c5[hit_index])\n",
    "        del self.c5[hit_index]\n",
    "        print(min_common, hit_index ,c5_choose)\n",
    "\n",
    "        print(\"--------------------------------\")\n",
    "        \n",
    "        for s in self.solution:\n",
    "            print(s)\n",
    "            min_common, hit_index ,c5_choose = self.min_common(s)\n",
    "            print(min_common, hit_index ,c5_choose)\n",
    "        \n",
    "        #m4in_common, hit_index ,c5_choose  = self.select(self.solution[0])\n",
    "        #print(min_common, hit_index ,c5_choose)\n",
    "        \n",
    "        #min_common, hit_index ,c5_choose  = self.select(self.solution[1])\n",
    "        #print(min_common, hit_index,c5_choose)\n",
    "        \n",
    "        #min_common, hit_index ,c5_choose  = self.select(self.solution[1])\n",
    "        #print(min_common, hit_index,c5_choose)\n",
    "        \n",
    "                \n",
    "        \n",
    "m=15\n",
    "arr = np.arange(start=1, stop=m+1, step=1)\n",
    "calc = Reducere(arr) \n",
    "calc.go()"
   ]
  },
  {
   "cell_type": "code",
   "execution_count": 85,
   "id": "63d32eb2-629f-48c5-b612-9ddfa9e9c813",
   "metadata": {},
   "outputs": [
    {
     "data": {
      "text/plain": [
       "[(1, 2, 3, 4, 5), (6, 7, 8, 9, 10)]"
      ]
     },
     "execution_count": 85,
     "metadata": {},
     "output_type": "execute_result"
    }
   ],
   "source": [
    "calc.solution"
   ]
  },
  {
   "cell_type": "code",
   "execution_count": 54,
   "id": "d3669980-2543-4d98-8e37-5dd01d0a8484",
   "metadata": {},
   "outputs": [
    {
     "data": {
      "text/plain": [
       "4"
      ]
     },
     "execution_count": 54,
     "metadata": {},
     "output_type": "execute_result"
    }
   ],
   "source": [
    "calc.common((6, 7, 8, 9, 10),(5, 7, 8, 9, 10))"
   ]
  },
  {
   "cell_type": "code",
   "execution_count": 106,
   "id": "76910a1e-e301-4f6c-8d1b-bf950adc0182",
   "metadata": {},
   "outputs": [
    {
     "data": {
      "text/plain": [
       "[(1, 2, 3, 4, 5), (6, 7, 8, 9, 10)]"
      ]
     },
     "execution_count": 106,
     "metadata": {},
     "output_type": "execute_result"
    }
   ],
   "source": [
    "calc.solution"
   ]
  },
  {
   "cell_type": "code",
   "execution_count": null,
   "id": "9b57288b-a529-4629-9af4-6ee5920366a7",
   "metadata": {},
   "outputs": [],
   "source": []
  }
 ],
 "metadata": {
  "kernelspec": {
   "display_name": "Python 3",
   "language": "python",
   "name": "python3"
  },
  "language_info": {
   "codemirror_mode": {
    "name": "ipython",
    "version": 3
   },
   "file_extension": ".py",
   "mimetype": "text/x-python",
   "name": "python",
   "nbconvert_exporter": "python",
   "pygments_lexer": "ipython3",
   "version": "3.8.10"
  }
 },
 "nbformat": 4,
 "nbformat_minor": 5
}
