{
 "cells": [
  {
   "cell_type": "code",
   "execution_count": 83,
   "id": "5970a509-3766-4262-84af-20b61a31c446",
   "metadata": {},
   "outputs": [
    {
     "name": "stdout",
     "output_type": "stream",
     "text": [
      "[1, 3, 4, 6, 14]\n",
      "[7, 8, 9, 10, 22]\n",
      "[13, 16, 19, 21, 28]\n",
      "[30, 32, 33, 35, 39]\n",
      "[1, 3, 7, 13, 39]\n",
      "[4, 6, 8, 16, 32]\n",
      "[9, 10, 14, 19, 30]\n",
      "[21, 22, 28, 33, 35]\n",
      "[1, 3, 8, 19, 33]\n",
      "[4, 6, 7, 21, 30]\n",
      "[9, 13, 14, 16, 35]\n",
      "[10, 22, 28, 32, 39]\n",
      "[1, 3, 9, 21, 32]\n",
      "[4, 7, 10, 16, 33]\n",
      "[6, 8, 13, 22, 30]\n"
     ]
    }
   ],
   "source": [
    "import pandas as pd\n",
    "import numpy as np\n",
    "\n",
    "def convert(tup, di):\n",
    "    for a, b in tup:\n",
    "        di[a]=b\n",
    "    return di\n",
    "\n",
    "df=pd.read_csv('20_3_95.txt', sep=',',header=None)\n",
    "#print(df.head(2))\n",
    "arr = df.to_numpy()\n",
    "schema = arr.tolist()\n",
    "\n",
    "m=20\n",
    "nrlist = list(np.arange(start=1, stop=m+1, step=1))\n",
    "\n",
    "mylist = [3,7,19,35,33,21,10,22,4,9,6,16,30,32,1,8,14,39,13,28]\n",
    "mylist = sorted(mylist)\n",
    "#print(\"My numbers\")\n",
    "#print(mylist)\n",
    "\n",
    "(unique, counts) = np.unique(mylist, return_counts=True)\n",
    "fv = np.asarray((unique, counts)).T\n",
    "#print(np.where(fv))\n",
    "\n",
    "repetition = fv[fv[:,1]!=1]\n",
    "if(repetition.shape[0]!=0):\n",
    "    print(\"Repetition:\",repetition)\n",
    "\n",
    "if (len(nrlist) != len(mylist)):\n",
    "    print(f\"Only {len(mylist)} numbers. Please, write {len(nrlist)}\")\n",
    "\n",
    "#list of tuples    \n",
    "zipped = list(zip(nrlist, mylist))\n",
    "dictionary = {}\n",
    "#dictionary\n",
    "dictionary = convert(zipped, dictionary)\n",
    "\n",
    "for comb in schema:\n",
    "    for i in range(5):\n",
    "        comb[i] = dictionary[comb[i]]\n",
    "    print(comb)"
   ]
  },
  {
   "cell_type": "code",
   "execution_count": null,
   "id": "a85c4e23-1ea3-468b-a321-951e41f7eb9e",
   "metadata": {},
   "outputs": [],
   "source": []
  },
  {
   "cell_type": "code",
   "execution_count": null,
   "id": "44a38624-e943-48d5-ba41-6c37ec105940",
   "metadata": {},
   "outputs": [],
   "source": []
  },
  {
   "cell_type": "code",
   "execution_count": null,
   "id": "a6f500ff-22ae-4cec-83ed-1ac2c213201c",
   "metadata": {},
   "outputs": [],
   "source": []
  },
  {
   "cell_type": "code",
   "execution_count": null,
   "id": "797a4cac-416f-485d-822e-c853c8dac787",
   "metadata": {},
   "outputs": [],
   "source": []
  },
  {
   "cell_type": "code",
   "execution_count": null,
   "id": "39a160c3-0795-429c-9710-b035c691f1ea",
   "metadata": {},
   "outputs": [],
   "source": []
  },
  {
   "cell_type": "code",
   "execution_count": null,
   "id": "6b1836b8-e145-47d6-be6e-b587d20982b6",
   "metadata": {},
   "outputs": [],
   "source": []
  },
  {
   "cell_type": "code",
   "execution_count": null,
   "id": "1e5be7c9-5706-444d-960b-c8dfeeb14844",
   "metadata": {},
   "outputs": [],
   "source": []
  }
 ],
 "metadata": {
  "kernelspec": {
   "display_name": "Python 3",
   "language": "python",
   "name": "python3"
  },
  "language_info": {
   "codemirror_mode": {
    "name": "ipython",
    "version": 3
   },
   "file_extension": ".py",
   "mimetype": "text/x-python",
   "name": "python",
   "nbconvert_exporter": "python",
   "pygments_lexer": "ipython3",
   "version": "3.8.10"
  }
 },
 "nbformat": 4,
 "nbformat_minor": 5
}
