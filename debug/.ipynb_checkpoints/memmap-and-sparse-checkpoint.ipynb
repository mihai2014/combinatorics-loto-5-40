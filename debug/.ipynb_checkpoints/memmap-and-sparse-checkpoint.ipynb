{
 "cells": [
  {
   "cell_type": "code",
   "execution_count": 44,
   "id": "b1a461a6-f806-491e-af64-9389667b984e",
   "metadata": {},
   "outputs": [
    {
     "name": "stdout",
     "output_type": "stream",
     "text": [
      "m5- (6188, 17)\n",
      "start generating intersections file...\n",
      "44.24722766876221\n"
     ]
    }
   ],
   "source": [
    "#        m1                             m2\n",
    "#Ex: 12......n                       12....n       \n",
    "# -------------------5-----------------------------6\n",
    "#    1111100000 |  C    = rows      11111100.. | C\n",
    "#    1111010000 |   arr             1111101..  |  arr\n",
    "#    ...        |                   ...        |\n",
    "#         11111 V                      111111  V\n",
    "#\n",
    "# intersect   = m1 X m2.T\n",
    "#    c6 ---->  (axis=1)\n",
    "# c5 \n",
    "# |   5 5 ....\n",
    "# |   ... \n",
    "# v   ..  0 0\n",
    "#\n",
    "# (axis=0)\n",
    "\n",
    "# Function which returns subset or r length from n\n",
    "from itertools import combinations\n",
    "import numpy as np\n",
    "from scipy.sparse import csr_matrix\n",
    "import math\n",
    "import sys\n",
    "import os\n",
    "import gc\n",
    "import time\n",
    "\n",
    "class Reducere2():\n",
    "    def __init__(self, arr):\n",
    "        pass\n",
    "        self.n = len(arr)\n",
    "        self.m5, self.c5 = self.matrix5(arr)\n",
    "        print(\"m5-\",self.m5.shape)\n",
    "        dim = self.m5.shape[0]\n",
    "        #init intersect file on disk\n",
    "        fp_intersect = np.memmap('data', dtype=np.int8, mode='w+', shape=(dim,dim))\n",
    "    \n",
    "    def comb(self, arr, k):\n",
    "        # return list of all subsets of length k\n",
    "        # to deal with duplicate subsets use \n",
    "        # set(list(combinations(arr, k)))\n",
    "        return list(combinations(arr, k))\n",
    "    \n",
    "    #\"graphical\" matrix (0/1 int8)\n",
    "    def matrix5(self,arr):\n",
    "        comb = self.comb(arr,5)\n",
    "        cols = self.n\n",
    "        rows = math.comb(cols,5)\n",
    "\n",
    "        z = np.zeros((rows,cols), dtype = np.int8)\n",
    "        i = 0\n",
    "        for c in comb:\n",
    "            \n",
    "            n1 = c[0]\n",
    "            n2 = c[1]\n",
    "            n3 = c[2]\n",
    "            n4 = c[3]\n",
    "            n5 = c[4]\n",
    "\n",
    "            z[i,n1-1] = 1\n",
    "            z[i,n2-1] = 1\n",
    "            z[i,n3-1] = 1\n",
    "            z[i,n4-1] = 1\n",
    "            z[i,n5-1] = 1\n",
    "                \n",
    "            #print(i,z[i])\n",
    "            i += 1\n",
    "\n",
    "        return z, comb   \n",
    "    \n",
    "    def calc_intersect1(self):\n",
    "        start = time.time()\n",
    "        print(\"start intersect c5-c5\")\n",
    "        sparse_m5 = csr_matrix(self.m5,dtype=np.int8)\n",
    "        del self.m5\n",
    "        sparse_intersect = sparse_m5.dot(sparse_m5.T)\n",
    "        self.intersect = sparse_intersect.todense()\n",
    "        del sparse_intersect\n",
    "        gc.collect()\n",
    "        print(\"end intersect:\",self.intersect.shape)\n",
    "        end = time.time()\n",
    "        print(end - start)\n",
    "        \n",
    "        \n",
    "    def calc_intersect2(self):\n",
    "        dim = self.m5.shape[0]        \n",
    "        self.fp_intersect = np.memmap('data', dtype=np.int8, mode='r+', shape=(dim,dim))        \n",
    "        #data = np.zeros((dim,dim), dtype = np.int8)\n",
    "        #fp_intersect[:]=data[:]\n",
    "        #row1\n",
    "        #fp_intersect[1,:] = np.ones((1,dim), dtype = np.int8)\n",
    "        #row2\n",
    "        #fp_intersect[2,:] = np.ones((1,dim), dtype = np.int8)\n",
    "\n",
    "        print(\"start generating intersections file...\")\n",
    "        #scan1\n",
    "        start = time.time()\n",
    "        for i in range(dim):\n",
    "            #print(i),\n",
    "            row1 = self.m5[i,:]    \n",
    "            for j in range(dim):\n",
    "                #print(i,j)\n",
    "                row2 = self.m5[j,:]    \n",
    "                result = row1@row2\n",
    "                self.fp_intersect[i,j] = result\n",
    "        end = time.time()\n",
    "        print(end - start)            \n",
    "\n",
    "        #scan2\n",
    "        #it = np.nditer(self.m5, flags=['f_index'],order='C')\n",
    "        #newline = 0\n",
    "        #acc = []\n",
    "        #start = time.time()\n",
    "        #for x in it:\n",
    "        #    newline += 1\n",
    "        #    #print(f\"{it.index}--{x}\")\n",
    "        #    acc.append(int(x))\n",
    "        #    if(newline == self.n):\n",
    "        #        #print(acc)\n",
    "        #        newline = 0\n",
    "        #        acc = []\n",
    "        #end = time.time()\n",
    "        #print(end - start)                 \n",
    "            \n",
    "        #write modif\n",
    "        self.fp_intersect.flush()\n",
    "        \n",
    "        #verif\n",
    "        #newfp = np.memmap('data', dtype=np.int8, mode='r', shape=(dim,dim))\n",
    "        #print(newfp)\n",
    "        \n",
    "\n",
    "    def go(self):\n",
    "    #memory garbage collector\n",
    "        gc.enable()\n",
    "        gc.collect()\n",
    "        self.calc_intersect2()\n",
    "    \n",
    "#arr = [1, 2, 3, 4, 5, 6, 7, 8, 9, 10]\n",
    "#or\n",
    "m=17\n",
    "arr = np.arange(start=1, stop=m+1, step=1)\n",
    "calc = Reducere2(arr)   \n",
    "calc.go()"
   ]
  },
  {
   "cell_type": "code",
   "execution_count": 14,
   "id": "1737e776-b7bb-4444-876a-345155eca321",
   "metadata": {},
   "outputs": [
    {
     "data": {
      "text/plain": [
       "array([1, 1, 1, 1, 0, 1, 0, 0, 0, 0, 0, 0, 0, 0, 0, 0, 0, 0, 0, 0, 0, 0,\n",
       "       0, 0, 0, 0, 0, 0, 0, 0, 0, 0, 0, 0, 0, 0, 0, 0, 0, 0], dtype=int8)"
      ]
     },
     "execution_count": 14,
     "metadata": {},
     "output_type": "execute_result"
    }
   ],
   "source": [
    "calc.m5[1,:]"
   ]
  },
  {
   "cell_type": "code",
   "execution_count": 2,
   "id": "25d3bf83-c815-42d0-92c2-8df829c5a966",
   "metadata": {},
   "outputs": [],
   "source": [
    "#data = np.zeros((658008,658008), dtype = np.int8)"
   ]
  },
  {
   "cell_type": "code",
   "execution_count": 39,
   "id": "08fd5a2f-f064-4a86-b1b4-1ec528f3cc9a",
   "metadata": {},
   "outputs": [
    {
     "data": {
      "text/plain": [
       "memmap([[5, 4, 4, ..., 1, 1, 0],\n",
       "        [4, 5, 4, ..., 1, 0, 1],\n",
       "        [4, 4, 5, ..., 0, 1, 1],\n",
       "        ...,\n",
       "        [1, 1, 0, ..., 5, 4, 4],\n",
       "        [1, 0, 1, ..., 4, 5, 4],\n",
       "        [0, 1, 1, ..., 4, 4, 5]], dtype=int8)"
      ]
     },
     "execution_count": 39,
     "metadata": {},
     "output_type": "execute_result"
    }
   ],
   "source": [
    "calc.fp_intersect"
   ]
  },
  {
   "cell_type": "code",
   "execution_count": 41,
   "id": "2f9bccaa-7d78-4b04-9358-1e692fd23fa5",
   "metadata": {},
   "outputs": [
    {
     "name": "stdout",
     "output_type": "stream",
     "text": [
      "[[5 4 4 ... 1 1 0]\n",
      " [4 5 4 ... 1 0 1]\n",
      " [4 4 5 ... 0 1 1]\n",
      " ...\n",
      " [1 1 0 ... 5 4 4]\n",
      " [1 0 1 ... 4 5 4]\n",
      " [0 1 1 ... 4 4 5]]\n"
     ]
    }
   ],
   "source": [
    "#newfp = np.memmap('data', dtype=np.int8, mode='r', shape=(252,252))\n",
    "#print(newfp)"
   ]
  },
  {
   "cell_type": "code",
   "execution_count": null,
   "id": "64e3cb96-e30f-4e7d-8611-0c8ceae32b40",
   "metadata": {},
   "outputs": [],
   "source": []
  }
 ],
 "metadata": {
  "kernelspec": {
   "display_name": "Python 3",
   "language": "python",
   "name": "python3"
  },
  "language_info": {
   "codemirror_mode": {
    "name": "ipython",
    "version": 3
   },
   "file_extension": ".py",
   "mimetype": "text/x-python",
   "name": "python",
   "nbconvert_exporter": "python",
   "pygments_lexer": "ipython3",
   "version": "3.8.10"
  }
 },
 "nbformat": 4,
 "nbformat_minor": 5
}
