{
 "cells": [
  {
   "cell_type": "code",
   "execution_count": 25,
   "id": "0b27b721-3b17-4623-8784-7b8879baf038",
   "metadata": {},
   "outputs": [
    {
     "name": "stdout",
     "output_type": "stream",
     "text": [
      "[[ 5 13 26 38 37 25]\n",
      " [20 32 38 21  5 11]\n",
      " [32 27 38 11 10 29]\n",
      " ...\n",
      " [11 35 25  4 27 24]\n",
      " [ 3 33 25 13 17 20]\n",
      " [ 8 37 12  9  7  4]]\n",
      "(1942, 6)\n"
     ]
    }
   ],
   "source": [
    "import pandas as pd\n",
    "import numpy as np\n",
    "\n",
    "df=pd.read_csv('arhiva.txt', sep='\\t',header=None)\n",
    "#print(df.head(2))\n",
    "arr = df.to_numpy()\n",
    "#remove 1st column - data\n",
    "arr = arr[:,[1,2,3,4,5,6]]\n",
    "records = arr.shape[0]\n",
    "#remove header\n",
    "arr = arr[1:records,:]\n",
    "#strings to int\n",
    "df = pd.DataFrame(arr)\n",
    "df = df.astype(int)\n",
    "arr = df.to_numpy()\n",
    "print(arr)\n",
    "print(arr.shape)"
   ]
  },
  {
   "cell_type": "code",
   "execution_count": 2,
   "id": "fad441e6-77d6-4053-99ea-0ae34e72fd7d",
   "metadata": {},
   "outputs": [
    {
     "name": "stdout",
     "output_type": "stream",
     "text": [
      "   0  1  2   3   4   5\n",
      "0  1  8  9  10  11  12\n",
      "1  2  6  7  13  14  15\n"
     ]
    },
    {
     "data": {
      "text/plain": [
       "array([[ 8,  9, 10, 11, 12],\n",
       "       [ 6,  7, 13, 14, 15],\n",
       "       [ 3,  4, 16, 17, 18],\n",
       "       [ 1,  2,  5, 19, 20],\n",
       "       [ 2,  8, 13, 14, 16],\n",
       "       [ 4,  5,  9, 15, 19],\n",
       "       [ 3,  6,  7, 12, 20],\n",
       "       [ 1, 10, 11, 13, 17],\n",
       "       [ 5,  6, 10, 14, 18],\n",
       "       [ 1,  7,  8, 15, 18],\n",
       "       [ 2,  7, 11, 17, 19],\n",
       "       [ 4,  9, 11, 14, 20],\n",
       "       [ 1,  3, 12, 16, 19],\n",
       "       [ 2,  3, 10, 12, 15],\n",
       "       [ 5,  6,  8,  9, 17],\n",
       "       [ 4,  5, 12, 13, 18],\n",
       "       [ 7,  9, 10, 16, 20],\n",
       "       [ 3,  6,  8, 13, 19],\n",
       "       [ 6, 11, 15, 16, 20],\n",
       "       [ 1,  8, 12, 14, 17],\n",
       "       [ 2,  9, 13, 18, 20],\n",
       "       [ 1,  3,  5, 11, 20],\n",
       "       [ 2,  4, 10, 14, 17],\n",
       "       [ 1,  2,  9, 18, 19],\n",
       "       [ 4,  5,  7,  8, 15],\n",
       "       [ 1,  2,  5,  7, 11]])"
      ]
     },
     "execution_count": 2,
     "metadata": {},
     "output_type": "execute_result"
    }
   ],
   "source": [
    "df=pd.read_csv('20_4_sigma2.txt', sep=',',header=None)\n",
    "print(df.head(2))\n",
    "arr2 = df.to_numpy()\n",
    "#remove idx column\n",
    "arr2 = arr2[:,1:6]\n",
    "arr2"
   ]
  },
  {
   "cell_type": "code",
   "execution_count": null,
   "id": "9e8c47fd-c105-455e-a719-75c64642c444",
   "metadata": {},
   "outputs": [],
   "source": []
  },
  {
   "cell_type": "code",
   "execution_count": 3,
   "id": "c0673ab5-1773-4900-8d7c-15af8f8dc521",
   "metadata": {},
   "outputs": [],
   "source": [
    "def matrix(comb,n,k):\n",
    "    #comb = self.comb(arr,k)\n",
    "    #cols = com\n",
    "    #rows = math.comb(cols,k)\n",
    "\n",
    "    z = np.zeros((comb.shape[0],n), dtype = np.int8)\n",
    "    i = 0\n",
    "    for c in comb:\n",
    "\n",
    "        n1 = c[0]\n",
    "        n2 = c[1]\n",
    "        n3 = c[2]\n",
    "        n4 = c[3]\n",
    "        n5 = c[4]\n",
    "        if(k==6): \n",
    "            n6 = c[5]\n",
    "\n",
    "        z[i,n1-1] = 1\n",
    "        z[i,n2-1] = 1\n",
    "        z[i,n3-1] = 1\n",
    "        z[i,n4-1] = 1\n",
    "        z[i,n5-1] = 1\n",
    "        if(k==6): \n",
    "            z[i,n6-1] = 1\n",
    "\n",
    "        #print(i,z[i])\n",
    "        i += 1\n",
    "\n",
    "    return z"
   ]
  },
  {
   "cell_type": "code",
   "execution_count": 4,
   "id": "a21e4e84-9be4-4b3e-b31d-26764fbce034",
   "metadata": {},
   "outputs": [],
   "source": [
    "m1 = matrix(arr2,40,5)\n",
    "m2 = matrix(arr,40,6)\n",
    "intersect = m1 @ m2.T"
   ]
  },
  {
   "cell_type": "code",
   "execution_count": 5,
   "id": "4896dd93-fd44-4999-8437-dcf5f906b56e",
   "metadata": {},
   "outputs": [
    {
     "data": {
      "text/plain": [
       "(26, 1942)"
      ]
     },
     "execution_count": 5,
     "metadata": {},
     "output_type": "execute_result"
    }
   ],
   "source": [
    "intersect.shape"
   ]
  },
  {
   "cell_type": "code",
   "execution_count": 6,
   "id": "e29b0a36-5e3d-4b13-bf3c-87eb50ce3b5b",
   "metadata": {},
   "outputs": [
    {
     "data": {
      "text/plain": [
       "array([[0, 1, 2, ..., 1, 0, 3],\n",
       "       [1, 0, 0, ..., 0, 1, 1],\n",
       "       [0, 0, 0, ..., 1, 2, 1],\n",
       "       ...,\n",
       "       [0, 0, 0, ..., 0, 0, 1],\n",
       "       [1, 1, 0, ..., 1, 0, 3],\n",
       "       [1, 2, 1, ..., 1, 0, 1]], dtype=int8)"
      ]
     },
     "execution_count": 6,
     "metadata": {},
     "output_type": "execute_result"
    }
   ],
   "source": [
    "intersect"
   ]
  },
  {
   "cell_type": "code",
   "execution_count": 7,
   "id": "f0ae3608-8d86-4f8b-93ba-79ce8571248b",
   "metadata": {},
   "outputs": [
    {
     "name": "stdout",
     "output_type": "stream",
     "text": [
      "verif-selected intersections:  [0 4]\n"
     ]
    }
   ],
   "source": [
    "#change to 0 all values < max_intersect\n",
    "intersect = np.where(intersect < 4, 0, intersect)\n",
    "print(\"verif-selected intersections: \",np.unique(intersect))  "
   ]
  },
  {
   "cell_type": "code",
   "execution_count": 8,
   "id": "93eaf330-c691-4369-9f56-946646d95a11",
   "metadata": {},
   "outputs": [],
   "source": [
    "#t = np.sum(intersect,axis=1)"
   ]
  },
  {
   "cell_type": "code",
   "execution_count": 9,
   "id": "caa8e61c-c734-4cba-8223-58c8c1c2eafe",
   "metadata": {},
   "outputs": [
    {
     "data": {
      "text/plain": [
       "(array([ 0,  0,  1,  1,  3,  4,  4,  5,  5,  6,  6,  6,  7,  7,  7,  9, 11,\n",
       "        11, 11, 11, 12, 12, 14, 14, 15, 15, 15, 18, 19, 19, 19, 19, 20, 20,\n",
       "        20, 21, 21, 22, 23, 23, 24, 25]),\n",
       " array([ 980, 1549,  416,  826,  272, 1212, 1870,  708, 1256,  335,  733,\n",
       "        1501,  418,  906, 1432,  639, 1196, 1346, 1584, 1936, 1166, 1332,\n",
       "        1661, 1824,  702,  836, 1863, 1159,  329,  501,  549, 1588,   85,\n",
       "         771, 1216,  191,  262, 1588, 1216, 1233, 1250,  685]))"
      ]
     },
     "execution_count": 9,
     "metadata": {},
     "output_type": "execute_result"
    }
   ],
   "source": [
    "np.where(intersect> 0)"
   ]
  },
  {
   "cell_type": "code",
   "execution_count": null,
   "id": "0cc665a4-06b3-4e0b-8886-f71600a30537",
   "metadata": {},
   "outputs": [],
   "source": []
  },
  {
   "cell_type": "code",
   "execution_count": null,
   "id": "ecfddefa-2055-4b0a-a48f-4c699c130237",
   "metadata": {},
   "outputs": [],
   "source": []
  },
  {
   "cell_type": "code",
   "execution_count": 37,
   "id": "64597bfc-0d5a-45e7-b828-8d9ea9a920ed",
   "metadata": {},
   "outputs": [],
   "source": [
    "unique_elements, counts_elements = np.unique(intersect, return_counts=True)"
   ]
  },
  {
   "cell_type": "code",
   "execution_count": 38,
   "id": "38e7f13f-d900-4b07-a51e-409ebdcd1000",
   "metadata": {},
   "outputs": [
    {
     "data": {
      "text/plain": [
       "array([0, 4], dtype=int8)"
      ]
     },
     "execution_count": 38,
     "metadata": {},
     "output_type": "execute_result"
    }
   ],
   "source": [
    "unique_elements"
   ]
  },
  {
   "cell_type": "code",
   "execution_count": 39,
   "id": "5e7d5cd2-e4c1-4a12-aa65-6997bff6c0fc",
   "metadata": {},
   "outputs": [
    {
     "data": {
      "text/plain": [
       "array([50450,    42])"
      ]
     },
     "execution_count": 39,
     "metadata": {},
     "output_type": "execute_result"
    }
   ],
   "source": [
    "counts_elements"
   ]
  },
  {
   "cell_type": "code",
   "execution_count": null,
   "id": "7b3cf52d-0df4-4809-817d-d6493be55dda",
   "metadata": {},
   "outputs": [],
   "source": []
  },
  {
   "cell_type": "code",
   "execution_count": 26,
   "id": "7033d722-99c4-427e-a64d-a4b5476eafd9",
   "metadata": {},
   "outputs": [],
   "source": [
    "#intersect2 = m2 @ m2.T"
   ]
  },
  {
   "cell_type": "code",
   "execution_count": 27,
   "id": "561ccc99-87cf-49fd-b84d-2ed90e3187b1",
   "metadata": {},
   "outputs": [],
   "source": [
    "#intersect2"
   ]
  },
  {
   "cell_type": "code",
   "execution_count": 28,
   "id": "d7d36e6d-91f3-44d7-b97c-f1a26d782395",
   "metadata": {},
   "outputs": [],
   "source": [
    "#np.fill_diagonal(intersect2, 0)"
   ]
  },
  {
   "cell_type": "code",
   "execution_count": 29,
   "id": "44186158-60c5-47db-83d9-8289de56c217",
   "metadata": {},
   "outputs": [],
   "source": [
    "#intersect2.shape"
   ]
  },
  {
   "cell_type": "code",
   "execution_count": 30,
   "id": "86523360-d343-4716-b5d5-82d955659e1c",
   "metadata": {},
   "outputs": [],
   "source": [
    "#change to 0 all values < max_intersect\n",
    "#intersect2 = np.where(intersect2 < 4, 0, intersect2)\n",
    "#print(\"verif-selected intersections: \",np.unique(intersect2)) "
   ]
  },
  {
   "cell_type": "code",
   "execution_count": 31,
   "id": "b21535dc-7acb-434f-a0ea-884e6f904db6",
   "metadata": {},
   "outputs": [],
   "source": [
    "#hit = np.where(intersect2 > 0)"
   ]
  },
  {
   "cell_type": "code",
   "execution_count": 32,
   "id": "3114216d-e896-459c-ac63-e08b45ab200a",
   "metadata": {},
   "outputs": [],
   "source": [
    "#hit5 = np.where(intersect2 == 5)"
   ]
  },
  {
   "cell_type": "code",
   "execution_count": 33,
   "id": "00ecaa77-24e5-485e-bfa1-52ad35a9139f",
   "metadata": {},
   "outputs": [],
   "source": [
    "#hit4 = np.where(intersect2 == 4)"
   ]
  },
  {
   "cell_type": "code",
   "execution_count": 34,
   "id": "8bd2c2eb-674d-4825-849d-0ad4d22e273d",
   "metadata": {},
   "outputs": [],
   "source": [
    "#len(hit5[0])"
   ]
  },
  {
   "cell_type": "code",
   "execution_count": 35,
   "id": "9a878889-b571-4da0-a887-ff1e165f1b6f",
   "metadata": {},
   "outputs": [],
   "source": [
    "#len(hit4[0])"
   ]
  },
  {
   "cell_type": "code",
   "execution_count": null,
   "id": "d0d714f4-a1b8-4398-b8dc-c1bca1dae7b6",
   "metadata": {},
   "outputs": [],
   "source": []
  }
 ],
 "metadata": {
  "kernelspec": {
   "display_name": "Python 3",
   "language": "python",
   "name": "python3"
  },
  "language_info": {
   "codemirror_mode": {
    "name": "ipython",
    "version": 3
   },
   "file_extension": ".py",
   "mimetype": "text/x-python",
   "name": "python",
   "nbconvert_exporter": "python",
   "pygments_lexer": "ipython3",
   "version": "3.8.10"
  }
 },
 "nbformat": 4,
 "nbformat_minor": 5
}
